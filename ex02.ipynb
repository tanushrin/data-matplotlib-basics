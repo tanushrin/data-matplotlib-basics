{
 "cells": [
  {
   "cell_type": "markdown",
   "metadata": {},
   "source": [
    "# Matplotlib\n",
    "\n",
    "### Documentation\n",
    "\n",
    "[Pyplot - plt](https://matplotlib.org/3.5.3/api/_as_gen/matplotlib.pyplot.html)"
   ]
  },
  {
   "cell_type": "code",
   "execution_count": null,
   "metadata": {},
   "outputs": [],
   "source": [
    "import matplotlib.pyplot as plt\n",
    "import numpy as np"
   ]
  },
  {
   "cell_type": "markdown",
   "metadata": {},
   "source": [
    "### Preparing Data for Matplotlib\n",
    "\n",
    "You are given the following ordered list of points. In that form, they cannot be visualized with `pyplot`.\n",
    "\n",
    "The goal is to **convert** the data in order for it to be usable by `pyplot`.\n",
    "\n",
    "You should convert the list of `dict` to a list of lists or a DataFrame to plot it.\n",
    "\n",
    "❓ Convert the data and use `pyplot.plot()` to create a line plot."
   ]
  },
  {
   "cell_type": "code",
   "execution_count": null,
   "metadata": {},
   "outputs": [],
   "source": [
    "points = [\n",
    "    {\"x\": 1, \"y\": 1},\n",
    "    {\"x\": 2, \"y\": 2},\n",
    "    {\"x\": 4, \"y\": 2},\n",
    "    {\"x\": 3, \"y\": 1},\n",
    "    {\"x\": 1, \"y\": 1},\n",
    "    {\"x\": 1, \"y\": 3},\n",
    "    {\"x\": 3, \"y\": 3},\n",
    "    {\"x\": 3, \"y\": 1},\n",
    "    {\"x\": 3, \"y\": 3},\n",
    "    {\"x\": 4, \"y\": 4},\n",
    "    {\"x\": 4, \"y\": 2},\n",
    "    {\"x\": 4, \"y\": 4},\n",
    "    {\"x\": 2, \"y\": 4},\n",
    "    {\"x\": 2, \"y\": 2},\n",
    "    {\"x\": 2, \"y\": 4},\n",
    "    {\"x\": 1, \"y\": 3},\n",
    "]\n",
    "pass  # YOUR CODE HERE"
   ]
  },
  {
   "cell_type": "markdown",
   "metadata": {},
   "source": [
    "❓ This time, create a `numpy` array of shape (100, 2), populated with random values. Then use `pyplot.scatter()` to plot these 100 points in a figure\n",
    "\n",
    "<br/>\n",
    "\n",
    "<details>\n",
    "  <summary>💡Hint</summary>\n",
    "  <p>Remember that NumPy 2D-arrays can be conveniently accessed with <code>my_array[row_slicer, col_slicer]</code></p>\n",
    "</details>"
   ]
  },
  {
   "cell_type": "code",
   "execution_count": null,
   "metadata": {
    "tags": [
     "challengify"
    ]
   },
   "outputs": [],
   "source": [
    "# YOUR CODE HERE"
   ]
  },
  {
   "cell_type": "markdown",
   "metadata": {},
   "source": [
    "### Plotting a Function\n",
    "\n",
    "❓ Generate data points within the range `[-10,10]`. These points are your `x` points. Use them to plot the following function:\n",
    "\n",
    "$$y = 4x + 2$$\n",
    "\n",
    "\n",
    "Use [ plt.ylim](https://matplotlib.org/stable/api/_as_gen/matplotlib.pyplot.ylim.html#matplotlib.pyplot.ylim) to keep the **y-axis** between **-10 and 10**\n",
    "\n",
    "<br/>\n",
    "\n",
    "<details>\n",
    "  <summary>💡Hint</summary>\n",
    "      <p>You can use <code><a href=\"https://docs.scipy.org/doc/numpy/reference/generated/numpy.arange.html\">numpy.arange()</a></code> to generate a list of N numbers in a range</p>\n",
    "</details>"
   ]
  },
  {
   "cell_type": "code",
   "execution_count": null,
   "metadata": {
    "tags": [
     "challengify"
    ]
   },
   "outputs": [],
   "source": [
    "# YOUR CODE HERE"
   ]
  },
  {
   "cell_type": "markdown",
   "metadata": {},
   "source": [
    "❓ Plot these 4 functions on the same graph, using the same set of `x` points generated above, keeping the **y-axis** between **-2 and 6** and the **x-axis** between **-4 and 4**.  \n",
    "\n",
    "$$y1 = x^2$$\n",
    "\n",
    "$$y2 = \\log x$$\n",
    "\n",
    "$$y3 = e^x$$\n",
    "\n",
    "$$y4 = \\frac{e^x}{e^x + 1}$$\n",
    "\n",
    "<details>\n",
    "  <summary>💡Hints</summary>\n",
    "    \n",
    "There are multiple ways to do this... to name a few:\n",
    "- Use a `for` loop/list comprehension\n",
    "- Use Numpy vectorial functions (e.g. `np.exp(your_list_of_x_numbers)`\n",
    "- Use the Python built-in function [`map`](https://www.w3schools.com/python/ref_func_map.asp)\n",
    "\n",
    "</details>"
   ]
  },
  {
   "cell_type": "code",
   "execution_count": null,
   "metadata": {
    "tags": [
     "challengify"
    ]
   },
   "outputs": [],
   "source": [
    "# YOUR CODE HERE"
   ]
  },
  {
   "cell_type": "markdown",
   "metadata": {},
   "source": [
    "### Formatting Basics\n",
    "\n",
    "We have a **scatter plot** generated below with `sklearn`, a library you will learn soon! We want to draw a **straight red dotted line** that follows the dots' distribution as closely as possible and make the chart look good 🖌️\n",
    "\n",
    "Our final result should look like this:  \n",
    "<img src=\"https://wagon-public-datasets.s3.amazonaws.com/data-science-images/02-Data-Toolkit/03-Data-Visualization/020302-regression-line-example.png\" alt=\"regression_line\" width=400>"
   ]
  },
  {
   "cell_type": "code",
   "execution_count": null,
   "metadata": {},
   "outputs": [],
   "source": [
    "from sklearn import datasets\n",
    "\n",
    "x, y, _ = datasets.make_regression(n_samples=100, n_features=1, noise=10, coef=True, random_state=0)\n",
    "\n",
    "plt.scatter(x,y);"
   ]
  },
  {
   "cell_type": "markdown",
   "metadata": {},
   "source": [
    "❓ Using your eyes only, plot a dotted red line **approximately** regressing the scatter plot above   \n",
    "- Reuse `x` and `y` from the previous cell\n",
    "- Two points are enough to draw a line"
   ]
  },
  {
   "cell_type": "code",
   "execution_count": null,
   "metadata": {
    "tags": [
     "challengify"
    ]
   },
   "outputs": [],
   "source": [
    "# YOUR CODE HERE"
   ]
  },
  {
   "cell_type": "markdown",
   "metadata": {},
   "source": [
    "❓ Now let's add some context to our graph by adding:\n",
    "1. A title saying \"Linear Regression\"\n",
    "1. A legend describing the data points and the line\n",
    "1. Labels for the x-axis (\"input value\") and the y-axis (\"output value\")\n",
    "\n",
    "🏆 Bonus: copy-paste the line below and try to understand the syntax (use shift-tab to show the docs)\n",
    "```python\n",
    "plt.annotate(\"Regression line\", (0,0), (1,-50), arrowprops={\"arrowstyle\":\"->\"})\n",
    "```"
   ]
  },
  {
   "cell_type": "code",
   "execution_count": null,
   "metadata": {
    "tags": [
     "challengify"
    ]
   },
   "outputs": [],
   "source": [
    "# YOUR CODE HERE"
   ]
  },
  {
   "cell_type": "markdown",
   "metadata": {},
   "source": [
    "Let's continue to work on our plot's design.\n",
    "\n",
    "❓ Make the plot **15 inches wide** and **6 inches tall**. \n",
    "\n",
    "What you have to do is:\n",
    "1. Access the current figure object of the plot\n",
    "1. Set the size of the figure\n",
    "\n",
    "\n",
    "These documentation pages should be useful:\n",
    "1. [plt.gcf( )](https://matplotlib.org/stable/api/_as_gen/matplotlib.pyplot.gcf.html#matplotlib.pyplot.gcf)\n",
    "1. [fig.set_figheight( )](https://matplotlib.org/stable/api/figure_api.html?highlight=set_figheight#matplotlib.figure.Figure.set_figheight)"
   ]
  },
  {
   "cell_type": "code",
   "execution_count": null,
   "metadata": {
    "tags": [
     "challengify"
    ]
   },
   "outputs": [],
   "source": [
    "# YOUR CODE HERE"
   ]
  }
 ],
 "metadata": {
  "kernelspec": {
   "display_name": "Python 3",
   "language": "python",
   "name": "python3"
  }
 },
 "nbformat": 4,
 "nbformat_minor": 4
}
